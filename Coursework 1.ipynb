{
 "cells": [
  {
   "cell_type": "markdown",
   "id": "478a668a-273f-452f-84c9-ca85ba26ad04",
   "metadata": {},
   "source": [
    "# Coursework 1: Movie ratings"
   ]
  },
  {
   "cell_type": "markdown",
   "id": "9bde526c-16a3-4305-b313-ce9f5c730f01",
   "metadata": {},
   "source": [
    "This is the first coursework of ECS7023P Programming for AI and Data Science, which counts 35% towards the final grade of the module. The coursework is graded out of 100 marks.\n",
    "\n",
    "**Deadline:** Monday 30th September, 2024 - 11.59pm\n",
    "\n",
    "**Marking criteria:** While the most important marking criterion will be for the code to achieve the expected objective and output, marks will also be given for partial or close solutions, whereas marks can be deducted for code that is overly complex, inefficient, difficult to understand and/or to maintain.\n",
    "\n",
    "**Use of packages:** For this exercise, in addition to the built-in python functions and elements that we have seen in the lectures (see lecture notes), you can only import the **csv** and **json** packages. No other packages are allowed. You cannot use other packages such as **pandas**, you won't get any marks for a question if you use it.\n",
    "\n",
    "**How to submit:** You will submit a completed Jupyter notebook file with your solutions, as well as a PDF version of the Jupyter notebook which includes the outputs of your code. You need to submit the python code that produces the required answers. Answers produced through means other than python code will not be deemed acceptable.\n",
    "\n",
    "**Note:** This is an individual coursework, the solutions you submit need to be your own and developed on your own."
   ]
  },
  {
   "cell_type": "markdown",
   "id": "2e303d15-5dc2-4a0c-91a7-0f663c897eec",
   "metadata": {},
   "source": [
    "## Dataset"
   ]
  },
  {
   "cell_type": "markdown",
   "id": "1bd66b8a-28e9-4da2-99a1-5f5afd7f00e5",
   "metadata": {},
   "source": [
    "For this exercise, you are given a dataset that contains information about a collection of movies, along with ratings assigned by 2,500 users to those movies.\n",
    "\n",
    "The dataset contains two files:\n",
    "* movies.json: a JSON file with information about movies, including their ID, title, language, release date, country(ies) of origin and genre(s).\n",
    "* ratings.csv: a CSV file that contains an entry for each movie rating, where a user ID rates a movie ID with a rating on a likert scale from 1 to 5 at a particular time.\n",
    "\n",
    "The **movieId** column in ratings.csv can be linked to the IDs within movie.json, so you know which specific movie a user is rating in each case.\n",
    "\n",
    "**Note:** ratings.csv contains entries only for movies that each user has rated, i.e. for many movies, a user may not have entered any ratings so we don't have that information."
   ]
  },
  {
   "cell_type": "markdown",
   "id": "cc9dc63a-bce3-4d71-a3e6-74f118dcc7a1",
   "metadata": {
    "tags": []
   },
   "source": [
    "## Exercises"
   ]
  },
  {
   "cell_type": "markdown",
   "id": "02175eb4-4623-40ab-ae09-96f1152a444d",
   "metadata": {},
   "source": [
    "### Question 1"
   ]
  },
  {
   "cell_type": "markdown",
   "id": "ace12b36-cf3d-46bb-90fc-4f0d559365f4",
   "metadata": {},
   "source": [
    "1. Who is the most active user with the largest number of ratings? Print the user ID and the number of ratings for this user. **(10 marks)**"
   ]
  },
  {
   "cell_type": "code",
   "execution_count": 8,
   "id": "9d6ea74f-3af8-41dd-9a96-526f9fc18ce3",
   "metadata": {},
   "outputs": [
    {
     "name": "stdout",
     "output_type": "stream",
     "text": [
      "User 8659 has rated the largest number of movies, with a total of 3023.\n"
     ]
    }
   ],
   "source": [
    "import json\n",
    "import csv\n",
    "file_path = 'ratings.csv'\n",
    "\n",
    "with open(file_path, mode='r') as file:\n",
    "    csv_reader = csv.reader(file)\n",
    "\n",
    "    count_dict = {}\n",
    "    next(csv_reader)\n",
    "    \n",
    "    for row in csv_reader:\n",
    "        if row[0] not in count_dict.keys():\n",
    "            count_dict[row[0]] = 1\n",
    "        else:\n",
    "            count_dict[row[0]] += 1\n",
    "        \n",
    "        max_user = 0\n",
    "        max_ratings = 0\n",
    "    \n",
    "    for user, ratings in count_dict.items():\n",
    "        if ratings > max_ratings:\n",
    "            max_ratings = ratings\n",
    "            max_user = user\n",
    "    print(f\"User {max_user} has rated the largest number of movies, with a total of {max_ratings}.\")"
   ]
  },
  {
   "cell_type": "markdown",
   "id": "93befa19-5d8b-4898-ae97-00cde96dbc41",
   "metadata": {},
   "source": [
    "### Question 2"
   ]
  },
  {
   "cell_type": "markdown",
   "id": "bbab3b67-deb8-456c-bfec-8cd97d6bfe8b",
   "metadata": {},
   "source": [
    "2. What is the user who, having rated at least 25 movies, has the overall lowest rating average? Print the ID of this user and their rating average. **(10 marks)**"
   ]
  },
  {
   "cell_type": "code",
   "execution_count": 11,
   "id": "5669d236-c9a2-4e25-86e7-5c445cf55c4c",
   "metadata": {},
   "outputs": [
    {
     "name": "stdout",
     "output_type": "stream",
     "text": [
      "User 5228 has the lowest rating average of 0.834.\n"
     ]
    }
   ],
   "source": [
    "import csv\n",
    "\n",
    "file_path = 'ratings.csv'\n",
    "\n",
    "rating_dict = {}\n",
    "for user_id, rating_count in count_dict.items():  # Reusing dictionary from Q1\n",
    "    if rating_count >= 25:\n",
    "        rating_dict[user_id] = [0, 0] \n",
    "\n",
    "with open(file_path, mode='r') as file:\n",
    "    csv_reader = csv.reader(file)\n",
    "    next(csv_reader)\n",
    "    for row in csv_reader:\n",
    "        user_id = row[0]\n",
    "        rating = float(row[2])\n",
    "        if user_id in rating_dict:\n",
    "            rating_dict[user_id][0] += rating \n",
    "            rating_dict[user_id][1] += 1 \n",
    "\n",
    "for user_id in rating_dict.keys():\n",
    "    if rating_dict[user_id][1] != count_dict[user_id]:\n",
    "        print(f\"Warning: User {user_id} has a mismatch in rating counts! \"\n",
    "              f\"Expected {count_dict[user_id]}, but found {rating_dict[user_id][1]}\")\n",
    "\n",
    "min_avg = float('inf')\n",
    "min_user = None\n",
    "\n",
    "for user_id, (total_rating, num_ratings) in rating_dict.items():\n",
    "    if num_ratings > 0:\n",
    "        avg_rating = total_rating / num_ratings\n",
    "        if avg_rating < min_avg:\n",
    "            min_avg = avg_rating\n",
    "            min_user = user_id\n",
    "\n",
    "print(f\"User {min_user} has the lowest rating average of {min_avg:.3f}.\")"
   ]
  },
  {
   "cell_type": "markdown",
   "id": "c98f9c61-c3d9-4be0-93d2-e063705ce29c",
   "metadata": {},
   "source": [
    "### Question 3"
   ]
  },
  {
   "cell_type": "markdown",
   "id": "ac029ef9-7b56-43e0-96c9-f2ddfd4f81f6",
   "metadata": {},
   "source": [
    "3. Given a year and a country as input, produce the statistics of genres for movies released in that year and country. To show the output of your code, print the results for 1995 as the input year and GB as the input country. **(10 marks)**"
   ]
  },
  {
   "cell_type": "code",
   "execution_count": 14,
   "id": "f3846268-bdbd-46a2-aad8-fd858f17ebcb",
   "metadata": {},
   "outputs": [
    {
     "name": "stdout",
     "output_type": "stream",
     "text": [
      "A total of 134 movies were released in GB in 1995.\n",
      "4 in the Adventure genre.\n",
      "5 in the Action genre.\n",
      "7 in the Thriller genre.\n",
      "37 in the Drama genre.\n",
      "20 in the Romance genre.\n",
      "4 in the History genre.\n",
      "5 in the War genre.\n",
      "19 in the Comedy genre.\n",
      "4 in the Documentary genre.\n",
      "4 in the Foreign genre.\n",
      "5 in the Crime genre.\n",
      "2 in the Fantasy genre.\n",
      "2 in the Family genre.\n",
      "2 in the Animation genre.\n",
      "4 in the TV Movie genre.\n",
      "3 in the Mystery genre.\n",
      "4 in the Horror genre.\n",
      "2 in the Science Fiction genre.\n",
      "1 in the Western genre.\n"
     ]
    }
   ],
   "source": [
    "# Assuming that 'statistics' merely means the number of movies released per genre in the given year and country. The question is very ambiguous.\n",
    "# Assuming that a movie made in both the US and GB counts as a movie made in GB.\n",
    "\n",
    "data_list = [] # Will be a list of tuples: (genre_list, year, country_list), where genre_list and country_list are lists themselves.\n",
    "file_path_2 = 'movies.json'\n",
    "with open(file_path_2, 'r') as movies:\n",
    "    for line in movies:\n",
    "        entry = json.loads(line)\n",
    "        year = entry.get('releasedate', '').split('-')[0]\n",
    "        genre_list = entry.get('genres', [])\n",
    "        country_list = entry.get('countries', [])\n",
    "        data_list.append((genre_list, year, country_list))\n",
    "\n",
    "def statistics(year, country): # Assuming both inputs are strings and that only a singular country is passed\n",
    "    genre_dict = {} # Will have genre as key, number of movies of that genre as value\n",
    "    for tuple in data_list:\n",
    "        if str(year) == tuple[1] and str(country) in tuple[2]:\n",
    "            for genre in tuple[0]: # For genre in genre_list\n",
    "                if genre not in genre_dict:\n",
    "                    genre_dict[genre] = 1\n",
    "                else:\n",
    "                    genre_dict[genre] += 1\n",
    "    total = 0\n",
    "    for count in genre_dict.values():\n",
    "        total += count\n",
    "    print(f\"A total of {total} movies were released in {country} in {year}.\") # Not 'true' total as movies with multiple genres have been recounted.\n",
    "    for genre, count in genre_dict.items():\n",
    "        print(f\"{count} in the {genre} genre.\")\n",
    "\n",
    "statistics('1995', 'GB')"
   ]
  },
  {
   "cell_type": "markdown",
   "id": "f1e3f9be-ec5a-4945-8bab-8706f62d6f50",
   "metadata": {},
   "source": [
    "### Question 4"
   ]
  },
  {
   "cell_type": "markdown",
   "id": "b38c2237-0844-44c5-866b-f62f9ecd5b8a",
   "metadata": {},
   "source": [
    "4. What is the title of the movie with the largest number of 3.5 ratings? How many 3.5 ratings does it have? **(15 marks)**"
   ]
  },
  {
   "cell_type": "code",
   "execution_count": 17,
   "id": "b8fdb758-3a7f-4e36-b45f-43c837c2b1b1",
   "metadata": {},
   "outputs": [
    {
     "name": "stdout",
     "output_type": "stream",
     "text": [
      "The movie with ID 480 has the highest number of 3.5 ratings, with a total of 654.\n",
      "And its name is Monsoon Wedding.\n"
     ]
    }
   ],
   "source": [
    "import json\n",
    "import csv\n",
    "\n",
    "file_path = 'ratings.csv'\n",
    "with open(file_path, mode='r') as file:\n",
    "    csv_reader = csv.reader(file)\n",
    "\n",
    "    three_point_five_dict = {}\n",
    "    next(csv_reader)\n",
    "\n",
    "    for row in csv_reader:\n",
    "        movie_id = row[1] \n",
    "        rating = float(row[2])\n",
    "        if movie_id not in three_point_five_dict:\n",
    "            three_point_five_dict[movie_id] = 0\n",
    "        if rating == 3.5:\n",
    "            three_point_five_dict[movie_id] += 1\n",
    "\n",
    "\n",
    "movie_with_max_ratings = None\n",
    "max_ratings = 0\n",
    "\n",
    "for movie_id, count in three_point_five_dict.items():\n",
    "    if count > max_ratings:\n",
    "        max_ratings = count\n",
    "        movie_with_max_ratings = movie_id\n",
    "\n",
    "\n",
    "print(f\"The movie with ID {movie_with_max_ratings} has the highest number of 3.5 ratings, with a total of {max_ratings}.\")\n",
    "\n",
    "file_path_2 = 'movies.json'\n",
    "with open(file_path_2, 'r') as movies:\n",
    "    for line in movies:\n",
    "        entry = json.loads(line)\n",
    "        movie_id = str(entry['id']) \n",
    "        if movie_id == movie_with_max_ratings:\n",
    "            title = entry['title']\n",
    "            print(f\"And its name is {title}.\")\n",
    "            break \n"
   ]
  },
  {
   "cell_type": "markdown",
   "id": "6647ccaa-c700-4ffd-a57e-fe386ebe3fa4",
   "metadata": {},
   "source": [
    "### Question 5"
   ]
  },
  {
   "cell_type": "markdown",
   "id": "e5df4f2f-5b2a-44de-8374-c0cdcc1e91f2",
   "metadata": {},
   "source": [
    "5. Write a python function which, given one or more countries as input parameter, produces a list of the top 5 movie titles with the highest average rating that match the country/ies. As an example to show your code, print the output for GB and US as the input countries. Note: the list of countries has to be part of the movie's countries, but not necessarily an exact match, e.g. a movie with GB, US, DE would be a match for GB, US as input parameter. **(15 marks)**"
   ]
  },
  {
   "cell_type": "code",
   "execution_count": 20,
   "id": "9cd5ba62-f0d5-4686-b538-01906ab6ca09",
   "metadata": {
    "scrolled": true
   },
   "outputs": [
    {
     "name": "stdout",
     "output_type": "stream",
     "text": [
      "Top Five Movies:\n",
      "1. Batman - 1 - 5.00\n",
      "2. Licence to Kill - 1 - 5.00\n",
      "3. Kingdom of Heaven - 1 - 5.00\n",
      "4. A Bridge Too Far - 1 - 5.00\n",
      "5. Flicka - 6 - 4.92\n",
      "\n"
     ]
    }
   ],
   "source": [
    "import csv\n",
    "import json\n",
    "\n",
    "file_path = 'ratings.csv'\n",
    "rating_per_movie_id_dict = {}  # keys are movie IDs, values: [rating total, number of ratings, average rating]\n",
    "\n",
    "with open(file_path, mode='r') as file:\n",
    "    csv_reader = csv.reader(file)\n",
    "    next(csv_reader) \n",
    "    for line in csv_reader:\n",
    "        movie_id = int(line[0]) \n",
    "        rating = float(line[2]) \n",
    "        \n",
    "        if movie_id not in rating_per_movie_id_dict:\n",
    "            rating_per_movie_id_dict[movie_id] = [rating, 1, rating]\n",
    "        else:\n",
    "            rating_per_movie_id_dict[movie_id][0] += rating \n",
    "            rating_per_movie_id_dict[movie_id][1] += 1      \n",
    "            rating_per_movie_id_dict[movie_id][2] = rating_per_movie_id_dict[movie_id][0] / rating_per_movie_id_dict[movie_id][1] \n",
    "\n",
    "file_path_2 = 'movies.json'\n",
    "with open(file_path_2, 'r') as movies:\n",
    "    for line in movies:\n",
    "        entry = json.loads(line) \n",
    "        countries_of_movie_list = entry.get(\"countries\", []) \n",
    "        title = entry.get(\"title\", \"Unknown Title\") \n",
    "        movie_id = int(entry.get(\"id\", -1))  \n",
    "        \n",
    "        if movie_id in rating_per_movie_id_dict:\n",
    "            rating_per_movie_id_dict[movie_id].extend([countries_of_movie_list, title])\n",
    "\n",
    "def top_five(country_list):  # Input country/ies with a list, e.g., ['GB', 'US']\n",
    "    valid_movies = []\n",
    "    for movie_id, movie_data in rating_per_movie_id_dict.items():\n",
    "        if len(movie_data) >= 5:\n",
    "            countries = movie_data[3]\n",
    "            if all(country in countries for country in country_list):\n",
    "                avg_rating = round(movie_data[2], 2)\n",
    "                valid_movies.append((avg_rating, movie_data[4], movie_data[1]))\n",
    "    \n",
    "    valid_movies.sort(key=lambda x: x[0], reverse=True)\n",
    "    \n",
    "    result = \"\"\n",
    "    for i in range(min(5, len(valid_movies))):\n",
    "        avg_rating, title, total_ratings = valid_movies[i]\n",
    "        result += f\"{i + 1}. {title} - {total_ratings} - {avg_rating:.2f}\\n\"\n",
    "    \n",
    "    return result\n",
    "print(\"Top Five Movies:\")\n",
    "print(top_five(['GB', 'US'])) # Output as: rank. title - number of ratings - avergae rating"
   ]
  },
  {
   "cell_type": "markdown",
   "id": "c1994bf6-e5d1-4498-8f3f-f79817647829",
   "metadata": {},
   "source": [
    "### Question 6"
   ]
  },
  {
   "cell_type": "markdown",
   "id": "031d72ec-bd0c-4da2-ae8e-5f6b9220c1e1",
   "metadata": {},
   "source": [
    "6. Produce a list of all movie genres available in the dataset, with their overall average rating for each genre. Print also the name of the genre with the highest average rating. Note: ratings pertaining to movies with more than one genre contribute to the average of all the relevant genres. **(15 marks)**"
   ]
  },
  {
   "cell_type": "code",
   "execution_count": 23,
   "id": "be6cedc6-2a75-4b82-aea3-16a42374e350",
   "metadata": {},
   "outputs": [
    {
     "name": "stdout",
     "output_type": "stream",
     "text": [
      "The TV Movie genre has an average rating of 3.660.\n",
      "The War genre has an average rating of 3.618.\n",
      "The Music genre has an average rating of 3.593.\n",
      "The Animation genre has an average rating of 3.593.\n",
      "The Fantasy genre has an average rating of 3.566.\n",
      "The Horror genre has an average rating of 3.562.\n",
      "The Foreign genre has an average rating of 3.554.\n",
      "The Mystery genre has an average rating of 3.553.\n",
      "The Adventure genre has an average rating of 3.548.\n",
      "The Thriller genre has an average rating of 3.541.\n",
      "The Comedy genre has an average rating of 3.536.\n",
      "The Science Fiction genre has an average rating of 3.535.\n",
      "The Drama genre has an average rating of 3.530.\n",
      "The History genre has an average rating of 3.523.\n",
      "The Family genre has an average rating of 3.522.\n",
      "The Romance genre has an average rating of 3.515.\n",
      "The Action genre has an average rating of 3.513.\n",
      "The Western genre has an average rating of 3.513.\n",
      "The Crime genre has an average rating of 3.512.\n",
      "The Documentary genre has an average rating of 3.466.\n"
     ]
    }
   ],
   "source": [
    "import json\n",
    "\n",
    "file_path_2 = 'movies.json'\n",
    "with open(file_path_2, 'r') as movies:\n",
    "    for line in movies:\n",
    "        entry = json.loads(line)\n",
    "        movie_id = int(entry.get(\"id\", -1))\n",
    "        genre_list = entry.get(\"genres\", []) \n",
    "        \n",
    "        # Reusing dictionary from last question, now adding a list of genres as the last element\n",
    "        if movie_id in rating_per_movie_id_dict:\n",
    "            rating_per_movie_id_dict[movie_id].append(genre_list)  # Append genre_list directly\n",
    "\n",
    "genre_dict = {}  # Keys will be genre name, value [0] will be total rating, [1] will be number of ratings, and [2] will be the average rating\n",
    "\n",
    "for entry in rating_per_movie_id_dict.values():\n",
    "    if len(entry) >= 5:\n",
    "        numb_ratings = entry[1]\n",
    "        rating_total = entry[0]\n",
    "        genres = entry[-1]\n",
    "        for genre in genres:\n",
    "            if genre not in genre_dict.keys():\n",
    "                genre_dict[genre] = [rating_total, numb_ratings, rating_total/numb_ratings]\n",
    "            else:\n",
    "                genre_dict[genre][0] += rating_total\n",
    "                genre_dict[genre][1] += numb_ratings\n",
    "                genre_dict[genre][2] = genre_dict[genre][0] / genre_dict[genre][1]\n",
    "\n",
    "genre_list = [] # This is the required list, a list of tuples: (genre, average rating).\n",
    "for genre, data in genre_dict.items():\n",
    "    genre_list.append((genre, data[-1]))\n",
    "genre_list.sort(key=lambda x: x[1], reverse=True)\n",
    "\n",
    "for genre, average_rating in genre_list:\n",
    "    print(f\"The {genre} genre has an average rating of {average_rating:.3f}.\")"
   ]
  },
  {
   "cell_type": "markdown",
   "id": "38878e37-10ad-4bf5-9772-4e209b37a770",
   "metadata": {},
   "source": [
    "### Question 7"
   ]
  },
  {
   "cell_type": "markdown",
   "id": "0a6d00da-56c6-4443-b7e8-31b5bb123375",
   "metadata": {},
   "source": [
    "7. We want to implement a small recommender system which, given a movie as input, recommends the most similar movie. The idea behind it is to recommend the movie with the most similar rating pattern to the movie provided as input (e.g. if our input movie has been liked by some users and disliked by others, we will try to recommend one where similar users liked and disliked it). To do this, we will measure the pairwise cosine similarities between the input movie and each of the other movies in the dataset, to find the one that maximises the similarity.\n",
    "\n",
    "The cosine similarity between two vectors (in python, lists) A and B is measured as:\n",
    "\n",
    "$\\mathbf{A} \\cdot \\mathbf{B} / \\|\\mathbf{A}\\| \\|\\mathbf{B}\\| = \\frac{ \\sum\\limits_{i=1}^{n}{A_i  B_i} }{ \\sqrt{\\sum\\limits_{i=1}^{n}{A_i^2}} \\cdot \\sqrt{\\sum\\limits_{i=1}^{n}{B_i^2}} }$ \n",
    "\n",
    "That's the (element-wise) multiplication of both vectors, divided by the multiplication of their norms. As an example, if we have two vectors:\n",
    "* A = [0, 1, 2]\n",
    "* B = [1, 2, 3]\n",
    "\n",
    "The cosine similarity between A and B is:\n",
    "\n",
    "$sim(A, B) = (0 * 1 + 1 * 2 + 2 * 3) / (\\sqrt{0^2 + 1^2 + 2^2} * \\sqrt{1^2 + 2^2 + 3^2}) = 0.956182887$\n",
    "\n",
    "See the toy example below where we have 3 movies and 5 users. Cells with a 0 indicate that the user hasn't rated that movie, whereas values 1-5 indicate that the user has rated the movie with that value:\n",
    "\n",
    "|         | user 1 | user 2 | user 3 | user 4 | user 5 |\n",
    "|---------|--------|--------|--------|--------|--------|\n",
    "| movie 1 |      5 |      0 |      2 |      1 |      5 |\n",
    "| movie 2 |      1 |      3 |      0 |      1 |      4 |\n",
    "| movie 3 |      4 |      0 |      2 |      1 |      0 |\n",
    "\n",
    "Let's say in this case our input movie is movie 1, so we want to find the movie that's most similar to movie 1. We would compute the pairwise cosine similarities between movie 1 (our input movie) and every other movie in the dataset:\n",
    "* Cosine similarity between movie 1 and movie 2 is: 0.674699\n",
    "* Cosine similarity between movie 1 and movie 3 is: 0.735612\n",
    "\n",
    "Hence, we would recommend movie 3 as the one with the highest cosine similarity with movie 1.\n",
    "\n",
    "To complete this question, write a python function which, given a movie as input, outputs the most similar movie as the recommended item based on highest cosine similarity with the input movie.\n",
    "\n",
    "**(30 marks)**\n",
    "\n",
    "NB that you can only use the *json* and *csv* packages. To calculate the square root of a value, you can use (1/2) as the exponent of a base number, e.g. 3**(1/2) calculates the square root of 3."
   ]
  },
  {
   "cell_type": "code",
   "execution_count": 26,
   "id": "157425e6-22ae-49c7-a369-5a19d46ed55b",
   "metadata": {},
   "outputs": [
    {
     "name": "stdout",
     "output_type": "stream",
     "text": [
      "The most similar movie to movie 480 is movie 377 with a similarity score of 0.638680\n"
     ]
    }
   ],
   "source": [
    "import csv\n",
    "\n",
    "movies_dict = {}\n",
    "user_ids = set()\n",
    "\n",
    "file_path = 'ratings.csv'\n",
    "with open(file_path, mode='r') as file:\n",
    "    csv_reader = csv.reader(file)\n",
    "    next(csv_reader)\n",
    "    for row in csv_reader:\n",
    "        user_id = int(row[0])\n",
    "        movie_id = int(row[1])\n",
    "        rating = float(row[2])\n",
    "        \n",
    "        if movie_id not in movies_dict:\n",
    "            movies_dict[movie_id] = {}\n",
    "        movies_dict[movie_id][user_id] = rating\n",
    "        user_ids.add(user_id)\n",
    "\n",
    "user_ids = sorted(user_ids)\n",
    "\n",
    "for movie_id in movies_dict:\n",
    "    for user_id in user_ids:\n",
    "        if user_id not in movies_dict[movie_id]:\n",
    "            movies_dict[movie_id][user_id] = 0\n",
    "\n",
    "movie_norms = {}\n",
    "for movie_id, user_ratings in movies_dict.items():\n",
    "    norm = sum(rating ** 2 for rating in user_ratings.values()) ** 0.5\n",
    "    movie_norms[movie_id] = norm\n",
    "\n",
    "def similarity(input_movie_id):\n",
    "    max_similarity = -1\n",
    "    most_similar_movie = None\n",
    "    \n",
    "    input_movie_ratings = movies_dict.get(input_movie_id, {})\n",
    "    input_norm = movie_norms.get(input_movie_id, 0)\n",
    "    \n",
    "    if not input_movie_ratings:\n",
    "        print(f\"Input movie {input_movie_id} has no ratings.\")\n",
    "        return\n",
    "    \n",
    "    for other_movie_id, other_movie_ratings in movies_dict.items():\n",
    "        if other_movie_id != input_movie_id:\n",
    "            dot_product = sum(input_movie_ratings[user] * other_movie_ratings[user] for user in user_ids)\n",
    "            \n",
    "            other_norm = movie_norms.get(other_movie_id, 0)\n",
    "            \n",
    "            if input_norm == 0 or other_norm == 0:\n",
    "                similarity_score = 0\n",
    "            else:\n",
    "                similarity_score = dot_product / (input_norm * other_norm)\n",
    "            \n",
    "            if similarity_score > max_similarity:\n",
    "                max_similarity = similarity_score\n",
    "                most_similar_movie = other_movie_id\n",
    "    \n",
    "    if most_similar_movie is not None:\n",
    "        print(f\"The most similar movie to movie {input_movie_id} is movie {most_similar_movie} \"\n",
    "              f\"with a similarity score of {max_similarity:.6f}\")\n",
    "    else:\n",
    "        print(\"No similar movies found.\")\n",
    "\n",
    "input_movie_id = 480 \n",
    "similarity(input_movie_id)\n"
   ]
  },
  {
   "cell_type": "code",
   "execution_count": null,
   "id": "a82cf3bd-7cff-4965-b5bd-c32db11dfbd8",
   "metadata": {},
   "outputs": [],
   "source": []
  }
 ],
 "metadata": {
  "kernelspec": {
   "display_name": "Python 3 (ipykernel)",
   "language": "python",
   "name": "python3"
  },
  "language_info": {
   "codemirror_mode": {
    "name": "ipython",
    "version": 3
   },
   "file_extension": ".py",
   "mimetype": "text/x-python",
   "name": "python",
   "nbconvert_exporter": "python",
   "pygments_lexer": "ipython3",
   "version": "3.12.4"
  }
 },
 "nbformat": 4,
 "nbformat_minor": 5
}
